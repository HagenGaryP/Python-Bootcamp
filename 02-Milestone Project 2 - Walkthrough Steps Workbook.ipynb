{
  "cells": [
    {
      "metadata": {
        "collapsed": true
      },
      "cell_type": "markdown",
      "source": "# Milestone Project 2 - Walkthrough Steps Workbook\nBelow is a set of steps for you to follow to try to create the Blackjack Milestone Project game!"
    },
    {
      "metadata": {},
      "cell_type": "markdown",
      "source": "## Game Play\nTo play a hand of Blackjack the following steps must be followed:\n1. Create a deck of 52 cards\n2. Shuffle the deck\n3. Ask the Player for their bet\n4. Make sure that the Player's bet does not exceed their available chips\n5. Deal two cards to the Dealer and two cards to the Player\n6. Show only one of the Dealer's cards, the other remains hidden\n7. Show both of the Player's cards\n8. Ask the Player if they wish to Hit, and take another card\n9. If the Player's hand doesn't Bust (go over 21), ask if they'd like to Hit again.\n10. If a Player Stands, play the Dealer's hand. The dealer will always Hit until the Dealer's value meets or exceeds 17\n11. Determine the winner and adjust the Player's chips accordingly\n12. Ask the Player if they'd like to play again"
    },
    {
      "metadata": {},
      "cell_type": "markdown",
      "source": "## Playing Cards\nA standard deck of playing cards has four suits (Hearts, Diamonds, Spades and Clubs) and thirteen ranks (2 through 10, then the face cards Jack, Queen, King and Ace) for a total of 52 cards per deck. Jacks, Queens and Kings all have a rank of 10. Aces have a rank of either 11 or 1 as needed to reach 21 without busting. As a starting point in your program, you may want to assign variables to store a list of suits, ranks, and then use a dictionary to map ranks to values."
    },
    {
      "metadata": {},
      "cell_type": "markdown",
      "source": "## The Game\n### Imports and Global Variables\n** Step 1: Import the random module. This will be used to shuffle the deck prior to dealing. Then, declare variables to store suits, ranks and values. You can develop your own system, or copy ours below. Finally, declare a Boolean value to be used to control <code>while</code> loops. This is a common practice used to control the flow of the game.**\n\n    suits = ('Hearts', 'Diamonds', 'Spades', 'Clubs')\n    ranks = ('Two', 'Three', 'Four', 'Five', 'Six', 'Seven', 'Eight', 'Nine', 'Ten', 'Jack', 'Queen', 'King', 'Ace')\n    values = {'Two':2, 'Three':3, 'Four':4, 'Five':5, 'Six':6, 'Seven':7, 'Eight':8, 'Nine':9, 'Ten':10, 'Jack':10,\n             'Queen':10, 'King':10, 'Ace':11}"
    },
    {
      "metadata": {
        "trusted": true
      },
      "cell_type": "code",
      "source": "import random\n\nsuits = ('Hearts', 'Diamonds', 'Spades', 'Clubs')\nranks = ('Two', 'Three', 'Four', 'Five', 'Six', 'Seven', 'Eight', 'Nine', 'Ten', 'Jack', 'Queen', 'King', 'Ace')\nvalues = {'Two':2, 'Three':3, 'Four':4, 'Five':5, 'Six':6, 'Seven':7, 'Eight':8, 'Nine':9, 'Ten':10, 'Jack':10,\n         'Queen':10, 'King':10, 'Ace':11}\n\nplaying = True",
      "execution_count": 2,
      "outputs": []
    },
    {
      "metadata": {},
      "cell_type": "markdown",
      "source": "### Class Definitions\nConsider making a Card class where each Card object has a suit and a rank, then a Deck class to hold all 52 Card objects, and can be shuffled, and finally a Hand class that holds those Cards that have been dealt to each player from the Deck."
    },
    {
      "metadata": {},
      "cell_type": "markdown",
      "source": "**Step 2: Create a Card Class**<br>\nA Card object really only needs two attributes: suit and rank. You might add an attribute for \"value\" - we chose to handle value later when developing our Hand class.<br>In addition to the Card's \\_\\_init\\_\\_ method, consider adding a \\_\\_str\\_\\_ method that, when asked to print a Card, returns a string in the form \"Two of Hearts\""
    },
    {
      "metadata": {
        "trusted": true
      },
      "cell_type": "code",
      "source": "class Card:\n    \n    def __init__(self,suit,rank):\n        self.suit = suit\n        self.rank = rank\n    \n    def __str__(self):\n        return self.rank + \" of \" + self.suit",
      "execution_count": 7,
      "outputs": []
    },
    {
      "metadata": {},
      "cell_type": "markdown",
      "source": "**Step 3: Create a Deck Class**<br>\nHere we might store 52 card objects in a list that can later be shuffled. First, though, we need to *instantiate* all 52 unique card objects and add them to our list. So long as the Card class definition appears in our code, we can build Card objects inside our Deck \\_\\_init\\_\\_ method. Consider iterating over sequences of suits and ranks to build out each card. This might appear inside a Deck class \\_\\_init\\_\\_ method:\n\n    for suit in suits:\n        for rank in ranks:\n\nIn addition to an \\_\\_init\\_\\_ method we'll want to add methods to shuffle our deck, and to deal out cards during gameplay.<br><br>\nOPTIONAL: We may never need to print the contents of the deck during gameplay, but having the ability to see the cards inside it may help troubleshoot any problems that occur during development. With this in mind, consider adding a \\_\\_str\\_\\_ method to the class definition."
    },
    {
      "metadata": {
        "trusted": true
      },
      "cell_type": "code",
      "source": "class Deck:\n    \n    def __init__(self):\n        self.deck = []  # start with an empty list\n        for suit in suits:\n            for rank in ranks:\n                self.deck.append(Card(suit,rank))\n    \n    def __str__(self):\n        deck_comp = ''\n        for card in self.deck:\n            deck_comp += '\\n' + card.__str__()\n        return \"The deck has: \" + deck_comp\n\n    def shuffle(self):\n        random.shuffle(self.deck)\n        \n    def deal(self):\n        single_card = self.deck.pop() \n        return single_card",
      "execution_count": 8,
      "outputs": []
    },
    {
      "metadata": {},
      "cell_type": "markdown",
      "source": "TESTING: Just to see that everything works so far, let's see what our Deck looks like!"
    },
    {
      "metadata": {
        "trusted": true
      },
      "cell_type": "code",
      "source": "test_deck = Deck()\ntest_deck.shuffle()\nprint(test_deck)",
      "execution_count": 10,
      "outputs": [
        {
          "output_type": "stream",
          "text": "The deck has: \nNine of Spades\nTen of Spades\nKing of Diamonds\nFive of Clubs\nKing of Hearts\nNine of Diamonds\nSeven of Hearts\nFour of Clubs\nFour of Spades\nThree of Hearts\nNine of Clubs\nTen of Hearts\nSeven of Spades\nFive of Hearts\nSix of Spades\nAce of Clubs\nTen of Diamonds\nQueen of Spades\nSix of Hearts\nQueen of Clubs\nJack of Spades\nKing of Clubs\nThree of Diamonds\nSix of Diamonds\nJack of Hearts\nFive of Diamonds\nNine of Hearts\nSeven of Diamonds\nSeven of Clubs\nEight of Hearts\nKing of Spades\nAce of Diamonds\nFour of Diamonds\nFour of Hearts\nAce of Hearts\nSix of Clubs\nQueen of Diamonds\nJack of Clubs\nThree of Clubs\nEight of Clubs\nEight of Diamonds\nTwo of Clubs\nTwo of Hearts\nAce of Spades\nEight of Spades\nTwo of Diamonds\nFive of Spades\nTwo of Spades\nQueen of Hearts\nTen of Clubs\nThree of Spades\nJack of Diamonds\n",
          "name": "stdout"
        }
      ]
    },
    {
      "metadata": {},
      "cell_type": "markdown",
      "source": "Great! Now let's move on to our Hand class."
    },
    {
      "metadata": {},
      "cell_type": "markdown",
      "source": "**Step 4: Create a Hand Class**<br>\nIn addition to holding Card objects dealt from the Deck, the Hand class may be used to calculate the value of those cards using the values dictionary defined above. It may also need to adjust for the value of Aces when appropriate."
    },
    {
      "metadata": {
        "trusted": false
      },
      "cell_type": "code",
      "source": "class Hand:\n    def __init__(self):\n        self.cards = []  # start with an empty list as we did in the Deck class\n        self.value = 0   # start with zero value\n        self.aces = 0    # add an attribute to keep track of aces\n    \n    def add_card(self,card):\n        # card passed in is from the Class Deck:\n        # from Deck.deal() --> single Card(suit,rank)\n        self.card.append(card)\n        self.value += values[card.rank]\n    \n    def adjust_for_ace(self):\n        pass",
      "execution_count": null,
      "outputs": []
    },
    {
      "metadata": {},
      "cell_type": "markdown",
      "source": "**Step 5: Create a Chips Class**<br>\nIn addition to decks of cards and hands, we need to keep track of a Player's starting chips, bets, and ongoing winnings. This could be done using global variables, but in the spirit of object oriented programming, let's make a Chips class instead!"
    },
    {
      "metadata": {
        "trusted": false
      },
      "cell_type": "code",
      "source": "class Chips:\n    \n    def __init__(self):\n        self.total = 100  # This can be set to a default value or supplied by a user input\n        self.bet = 0\n        \n    def win_bet(self):\n        pass\n    \n    def lose_bet(self):\n        pass",
      "execution_count": null,
      "outputs": []
    },
    {
      "metadata": {},
      "cell_type": "markdown",
      "source": "### Function Defintions\nA lot of steps are going to be repetitive. That's where functions come in! The following steps are guidelines - add or remove functions as needed in your own program."
    },
    {
      "metadata": {},
      "cell_type": "markdown",
      "source": "**Step 6: Write a function for taking bets**<br>\nSince we're asking the user for an integer value, this would be a good place to use <code>try</code>/<code>except</code>. Remember to check that a Player's bet can be covered by their available chips."
    },
    {
      "metadata": {
        "trusted": false
      },
      "cell_type": "code",
      "source": "def take_bet():\n    \n    pass",
      "execution_count": null,
      "outputs": []
    },
    {
      "metadata": {},
      "cell_type": "markdown",
      "source": "**Step 7: Write a function for taking hits**<br>\nEither player can take hits until they bust. This function will be called during gameplay anytime a Player requests a hit, or a Dealer's hand is less than 17. It should take in Deck and Hand objects as arguments, and deal one card off the deck and add it to the Hand. You may want it to check for aces in the event that a player's hand exceeds 21."
    },
    {
      "metadata": {
        "trusted": false
      },
      "cell_type": "code",
      "source": "def hit(deck,hand):\n    \n    pass",
      "execution_count": null,
      "outputs": []
    },
    {
      "metadata": {},
      "cell_type": "markdown",
      "source": "**Step 8: Write a function prompting the Player to Hit or Stand**<br>\nThis function should accept the deck and the player's hand as arguments, and assign playing as a global variable.<br>\nIf the Player Hits, employ the hit() function above. If the Player Stands, set the playing variable to False - this will control the behavior of a <code>while</code> loop later on in our code."
    },
    {
      "metadata": {
        "trusted": false
      },
      "cell_type": "code",
      "source": "def hit_or_stand(deck,hand):\n    global playing  # to control an upcoming while loop\n    \n    pass",
      "execution_count": null,
      "outputs": []
    },
    {
      "metadata": {},
      "cell_type": "markdown",
      "source": "**Step 9: Write functions to display cards**<br>\nWhen the game starts, and after each time Player takes a card, the dealer's first card is hidden and all of Player's cards are visible. At the end of the hand all cards are shown, and you may want to show each hand's total value. Write a function for each of these scenarios."
    },
    {
      "metadata": {
        "trusted": false
      },
      "cell_type": "code",
      "source": "def show_some(player,dealer):\n    \n    pass\n    \ndef show_all(player,dealer):\n    \n    pass",
      "execution_count": null,
      "outputs": []
    },
    {
      "metadata": {},
      "cell_type": "markdown",
      "source": "**Step 10: Write functions to handle end of game scenarios**<br>\nRemember to pass player's hand, dealer's hand and chips as needed."
    },
    {
      "metadata": {
        "trusted": false
      },
      "cell_type": "code",
      "source": "def player_busts():\n    pass\n\ndef player_wins():\n    pass\n\ndef dealer_busts():\n    pass\n    \ndef dealer_wins():\n    pass\n    \ndef push():\n    pass",
      "execution_count": null,
      "outputs": []
    },
    {
      "metadata": {},
      "cell_type": "markdown",
      "source": "### And now on to the game!!"
    },
    {
      "metadata": {
        "trusted": false
      },
      "cell_type": "code",
      "source": "while True:\n    # Print an opening statement\n\n    \n    # Create & shuffle the deck, deal two cards to each player\n\n    \n        \n    # Set up the Player's chips\n    \n    \n    # Prompt the Player for their bet\n\n    \n    # Show cards (but keep one dealer card hidden)\n\n    \n    while playing:  # recall this variable from our hit_or_stand function\n        \n        # Prompt for Player to Hit or Stand\n        \n        \n        # Show cards (but keep one dealer card hidden)\n \n        \n        # If player's hand exceeds 21, run player_busts() and break out of loop\n        \n\n            break\n\n    # If Player hasn't busted, play Dealer's hand until Dealer reaches 17\n    \n    \n        # Show all cards\n    \n        # Run different winning scenarios\n        \n    \n    # Inform Player of their chips total \n    \n    # Ask to play again\n\n        break",
      "execution_count": null,
      "outputs": []
    },
    {
      "metadata": {},
      "cell_type": "markdown",
      "source": "And that's it! Remember, these steps may differ significantly from your own solution. That's OK! Keep working on different sections of your program until you get the desired results. It takes a lot of time and patience! As always, feel free to post questions and comments to the QA Forums.\n# Good job!"
    }
  ],
  "metadata": {
    "kernelspec": {
      "name": "python3",
      "display_name": "Python 3",
      "language": "python"
    },
    "language_info": {
      "mimetype": "text/x-python",
      "nbconvert_exporter": "python",
      "name": "python",
      "pygments_lexer": "ipython3",
      "version": "3.5.4",
      "file_extension": ".py",
      "codemirror_mode": {
        "version": 3,
        "name": "ipython"
      }
    }
  },
  "nbformat": 4,
  "nbformat_minor": 1
}